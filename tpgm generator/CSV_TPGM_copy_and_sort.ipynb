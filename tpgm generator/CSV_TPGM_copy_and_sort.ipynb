{
 "cells": [
  {
   "cell_type": "code",
   "execution_count": 14,
   "metadata": {},
   "outputs": [],
   "source": [
    "import os\n",
    "import shutil\n",
    "import csv\n",
    "\n",
    "def extract_timestamps(data):\n",
    "    timestamps = data.split(',')\n",
    "    timestamps = [tuple(map(int, timestamp.strip('()').split(','))) for timestamp in timestamps]\n",
    "    return timestamps\n",
    "\n",
    "def extract_and_sort_by_duration(data):\n",
    "    timestamps = extract_timestamps(data)\n",
    "    \n",
    "    # Calculate duration as the difference between tx-to and tx-from\n",
    "    duration = timestamps[1][0] - timestamps[0][0]\n",
    "    \n",
    "    return duration\n",
    "\n",
    "def sort_file(input_file, output_file, sort_func):\n",
    "    with open(input_file, 'r') as input_csv:\n",
    "        csv_reader = csv.reader(input_csv, delimiter=';')\n",
    "        data_rows = list(csv_reader)\n",
    "        \n",
    "        # Sort data rows based on timestamps\n",
    "        data_rows.sort(key=lambda row: sort_func(row[-1]))\n",
    "        \n",
    "        with open(output_file, 'w', newline='') as output_csv:\n",
    "            csv_writer = csv.writer(output_csv, delimiter=';')\n",
    "            csv_writer.writerows(data_rows)\n",
    "\n",
    "def copy_and_sort_csv_graph(input_folder, output_folder, sort_func):\n",
    "    shutil.copytree(input_folder, output_folder)\n",
    "\n",
    "    vertices_input_file = os.path.join(input_folder, 'vertices.csv')\n",
    "    vertices_output_file = os.path.join(output_folder, 'vertices.csv')\n",
    "    sort_file(vertices_input_file, vertices_output_file, sort_func)\n",
    "    \n",
    "    edges_input_file = os.path.join(input_folder, 'edges.csv')\n",
    "    edges_output_file = os.path.join(output_folder, 'edges.csv')\n",
    "    sort_file(edges_input_file, edges_output_file, sort_func)\n",
    "\n",
    "    graphs_input_file = os.path.join(input_folder, 'graphs.csv')\n",
    "    graphs_output_file = os.path.join(output_folder, 'graphs.csv')\n",
    "    sort_file(graphs_input_file, graphs_output_file, sort_func)\n",
    "\n",
    "# Input and output folder paths\n",
    "input_csv_graph_folder = 'csv_64_graphs'\n",
    "output_csv_graph_folder_ascending = input_csv_graph_folder + '_sort_ascending'\n",
    "output_csv_graph_folder_duration = input_csv_graph_folder + '_sort_duration'\n",
    "\n",
    "copy_and_sort_csv_graph(input_csv_graph_folder, output_csv_graph_folder_ascending, extract_timestamps)\n",
    "copy_and_sort_csv_graph(input_csv_graph_folder, output_csv_graph_folder_duration, extract_and_sort_by_duration)\n"
   ]
  }
 ],
 "metadata": {
  "kernelspec": {
   "display_name": "Python 3",
   "language": "python",
   "name": "python3"
  },
  "language_info": {
   "codemirror_mode": {
    "name": "ipython",
    "version": 3
   },
   "file_extension": ".py",
   "mimetype": "text/x-python",
   "name": "python",
   "nbconvert_exporter": "python",
   "pygments_lexer": "ipython3",
   "version": "3.11.4"
  },
  "orig_nbformat": 4
 },
 "nbformat": 4,
 "nbformat_minor": 2
}
