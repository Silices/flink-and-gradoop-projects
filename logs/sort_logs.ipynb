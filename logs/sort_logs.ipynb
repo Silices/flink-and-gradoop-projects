{
 "cells": [
  {
   "cell_type": "code",
   "execution_count": 7,
   "metadata": {},
   "outputs": [
    {
     "name": "stdout",
     "output_type": "stream",
     "text": [
      "csv_16_graphs_EdgeLog.txt\n",
      "csv_16_graphs_GraphLog.txt\n",
      "csv_16_graphs_sort_ascending_EdgeLog.txt\n",
      "csv_16_graphs_sort_ascending_GraphLog.txt\n",
      "csv_16_graphs_sort_ascending_VertexLog.txt\n",
      "csv_16_graphs_sort_duration_EdgeLog.txt\n",
      "csv_16_graphs_sort_duration_GraphLog.txt\n",
      "csv_16_graphs_sort_duration_VertexLog.txt\n",
      "csv_16_graphs_VertexLog.txt\n",
      "csv_2_graphs_EdgeLog.txt\n",
      "csv_2_graphs_GraphLog.txt\n",
      "csv_2_graphs_sort_ascending_EdgeLog.txt\n",
      "csv_2_graphs_sort_ascending_GraphLog.txt\n",
      "csv_2_graphs_sort_ascending_VertexLog.txt\n",
      "csv_2_graphs_sort_duration_EdgeLog.txt\n",
      "csv_2_graphs_sort_duration_GraphLog.txt\n",
      "csv_2_graphs_sort_duration_VertexLog.txt\n",
      "csv_2_graphs_VertexLog.txt\n",
      "csv_32_graphs_EdgeLog.txt\n",
      "csv_32_graphs_GraphLog.txt\n",
      "csv_32_graphs_sort_ascending_EdgeLog.txt\n",
      "csv_32_graphs_sort_ascending_GraphLog.txt\n",
      "csv_32_graphs_sort_ascending_VertexLog.txt\n",
      "csv_32_graphs_sort_duration_EdgeLog.txt\n",
      "csv_32_graphs_sort_duration_GraphLog.txt\n",
      "csv_32_graphs_sort_duration_VertexLog.txt\n",
      "csv_32_graphs_VertexLog.txt\n",
      "csv_4_graphs_EdgeLog.txt\n",
      "csv_4_graphs_GraphLog.txt\n",
      "csv_4_graphs_sort_ascending_EdgeLog.txt\n",
      "csv_4_graphs_sort_ascending_GraphLog.txt\n",
      "csv_4_graphs_sort_ascending_VertexLog.txt\n",
      "csv_4_graphs_sort_duration_EdgeLog.txt\n",
      "csv_4_graphs_sort_duration_GraphLog.txt\n",
      "csv_4_graphs_sort_duration_VertexLog.txt\n",
      "csv_4_graphs_VertexLog.txt\n",
      "csv_64_graphs_EdgeLog.txt\n",
      "csv_64_graphs_GraphLog.txt\n",
      "csv_64_graphs_sort_ascending_EdgeLog.txt\n",
      "csv_64_graphs_sort_ascending_GraphLog.txt\n",
      "csv_64_graphs_sort_ascending_VertexLog.txt\n",
      "csv_64_graphs_sort_duration_EdgeLog.txt\n",
      "csv_64_graphs_sort_duration_GraphLog.txt\n",
      "csv_64_graphs_sort_duration_VertexLog.txt\n",
      "csv_64_graphs_VertexLog.txt\n",
      "csv_8_graphs_EdgeLog.txt\n",
      "csv_8_graphs_GraphLog.txt\n",
      "csv_8_graphs_sort_ascending_EdgeLog.txt\n",
      "csv_8_graphs_sort_ascending_GraphLog.txt\n",
      "csv_8_graphs_sort_ascending_VertexLog.txt\n",
      "csv_8_graphs_sort_duration_EdgeLog.txt\n",
      "csv_8_graphs_sort_duration_GraphLog.txt\n",
      "csv_8_graphs_sort_duration_VertexLog.txt\n",
      "csv_8_graphs_VertexLog.txt\n"
     ]
    }
   ],
   "source": [
    "import os\n",
    "\n",
    "input_folder_path = \"logs/8/\"\n",
    "output_folder_path = \"logs/8_sorted/\"\n",
    "\n",
    "def custom_sort(line):\n",
    "    parts = line.strip().split(\", \")\n",
    "    task_slot = int(parts[0].split(\": \")[1])\n",
    "    #graph_id = parts[1].split(\": \")[1]\n",
    "    return (task_slot)\n",
    "\n",
    "for filename in os.listdir(input_folder_path):\n",
    "    if filename.endswith(\".txt\"): \n",
    "        input_path = os.path.join(input_folder_path, filename)\n",
    "        output_path = os.path.join(output_folder_path, filename)\n",
    "\n",
    "        with open(input_path, \"r\") as file:\n",
    "            lines = [line for line in file if line.strip()] # Remove empty lines\n",
    "        \n",
    "        sorted_lines = sorted(lines, key=custom_sort)\n",
    "        \n",
    "        with open(output_path, \"w\") as file:\n",
    "            file.writelines(sorted_lines)\n"
   ]
  }
 ],
 "metadata": {
  "kernelspec": {
   "display_name": "Python 3",
   "language": "python",
   "name": "python3"
  },
  "language_info": {
   "codemirror_mode": {
    "name": "ipython",
    "version": 3
   },
   "file_extension": ".py",
   "mimetype": "text/x-python",
   "name": "python",
   "nbconvert_exporter": "python",
   "pygments_lexer": "ipython3",
   "version": "3.11.4"
  },
  "orig_nbformat": 4
 },
 "nbformat": 4,
 "nbformat_minor": 2
}
