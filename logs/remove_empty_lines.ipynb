{
 "cells": [
  {
   "cell_type": "code",
   "execution_count": 1,
   "metadata": {},
   "outputs": [],
   "source": [
    "import os\n",
    "\n",
    "input_folder_path = \"logs/2/\"\n",
    "output_folder_path = \"logs/2_no_spaces/\"\n",
    "\n",
    "for filename in os.listdir(input_folder_path):\n",
    "    if filename.endswith(\".txt\"):  \n",
    "        input_path = os.path.join(input_folder_path, filename)\n",
    "        output_path = os.path.join(output_folder_path, filename)\n",
    "        \n",
    "\n",
    "        with open(input_path, \"r\") as file:\n",
    "            lines = [line for line in file if line.strip()] # Remove empty lines\n",
    "        \n",
    "        with open(output_path, \"w\") as file:\n",
    "            file.writelines(lines)\n"
   ]
  }
 ],
 "metadata": {
  "kernelspec": {
   "display_name": "Python 3",
   "language": "python",
   "name": "python3"
  },
  "language_info": {
   "codemirror_mode": {
    "name": "ipython",
    "version": 3
   },
   "file_extension": ".py",
   "mimetype": "text/x-python",
   "name": "python",
   "nbconvert_exporter": "python",
   "pygments_lexer": "ipython3",
   "version": "3.11.4"
  },
  "orig_nbformat": 4
 },
 "nbformat": 4,
 "nbformat_minor": 2
}
